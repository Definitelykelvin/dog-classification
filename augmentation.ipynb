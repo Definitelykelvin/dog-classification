{
 "cells": [
  {
   "cell_type": "code",
   "execution_count": 10,
   "id": "9276250c",
   "metadata": {},
   "outputs": [],
   "source": [
    "import Augmentor"
   ]
  },
  {
   "cell_type": "code",
   "execution_count": 11,
   "id": "820b7d9f",
   "metadata": {},
   "outputs": [
    {
     "name": "stdout",
     "output_type": "stream",
     "text": [
      "Initialised with 1400 image(s) found.\n",
      "Output directory set to C:\\Users\\User\\Desktop\\Sem 1 2022\\TCI3121 COMPU INTELLIGENCE\\project\\test10\\output."
     ]
    }
   ],
   "source": [
    "path = \"C:\\\\Users\\\\User\\\\Desktop\\\\Sem 1 2022\\\\TCI3121 COMPU INTELLIGENCE\\\\project\\\\test10\"\n",
    "p = Augmentor.Pipeline(path)"
   ]
  },
  {
   "cell_type": "code",
   "execution_count": 12,
   "id": "b8024fa0",
   "metadata": {},
   "outputs": [
    {
     "name": "stderr",
     "output_type": "stream",
     "text": [
      "Processing <PIL.Image.Image image mode=RGB size=100x100 at 0x210B7CAFB20>: 100%|█| 14000/14000 [00:52<00:00, 268.96 Sam\n"
     ]
    }
   ],
   "source": [
    "p.flip_top_bottom(probability=0.4)\n",
    "p.zoom(probability = 0.3, min_factor = 0.8, max_factor = 1.5)\n",
    "p.random_distortion(probability=1, grid_width=3, grid_height=3,magnitude=6)\n",
    "#p.shear(probability = 0.5,max_shear_left = 10, max_shear_right=10)\n",
    "p.sample(14000)"
   ]
  },
  {
   "cell_type": "code",
   "execution_count": null,
   "id": "59d5e956",
   "metadata": {},
   "outputs": [],
   "source": []
  }
 ],
 "metadata": {
  "kernelspec": {
   "display_name": "Python 3 (ipykernel)",
   "language": "python",
   "name": "python3"
  },
  "language_info": {
   "codemirror_mode": {
    "name": "ipython",
    "version": 3
   },
   "file_extension": ".py",
   "mimetype": "text/x-python",
   "name": "python",
   "nbconvert_exporter": "python",
   "pygments_lexer": "ipython3",
   "version": "3.9.7"
  }
 },
 "nbformat": 4,
 "nbformat_minor": 5
}
